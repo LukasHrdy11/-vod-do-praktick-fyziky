{
 "cells": [
  {
   "cell_type": "markdown",
   "id": "063390e5",
   "metadata": {},
   "source": [
    "# Zobecnění root mean square na obecnou mocninu a nalezení závislosti"
   ]
  },
  {
   "cell_type": "code",
   "execution_count": null,
   "id": "b8c14748",
   "metadata": {},
   "outputs": [],
   "source": []
  }
 ],
 "metadata": {
  "language_info": {
   "name": "python"
  }
 },
 "nbformat": 4,
 "nbformat_minor": 5
}
